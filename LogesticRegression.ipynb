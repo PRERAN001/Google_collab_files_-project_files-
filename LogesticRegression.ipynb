{
  "nbformat": 4,
  "nbformat_minor": 0,
  "metadata": {
    "colab": {
      "provenance": [],
      "authorship_tag": "ABX9TyMPARm2BIdnd7NnQlKhSn7w",
      "include_colab_link": true
    },
    "kernelspec": {
      "name": "python3",
      "display_name": "Python 3"
    },
    "language_info": {
      "name": "python"
    }
  },
  "cells": [
    {
      "cell_type": "markdown",
      "metadata": {
        "id": "view-in-github",
        "colab_type": "text"
      },
      "source": [
        "<a href=\"https://colab.research.google.com/github/PRERAN001/Google_collab_files_-project_files-/blob/main/LogesticRegression.ipynb\" target=\"_parent\"><img src=\"https://colab.research.google.com/assets/colab-badge.svg\" alt=\"Open In Colab\"/></a>"
      ]
    },
    {
      "cell_type": "code",
      "source": [
        "import numpy as np\n",
        "import pandas as pd\n",
        "from sklearn.preprocessing import StandardScaler\n",
        "from sklearn.metrics import accuracy_score\n",
        "from sklearn.model_selection import train_test_split\n",
        "\n",
        "# Load and prepare data\n",
        "data = pd.read_csv(\"/content/diabetes.csv\")\n",
        "x = data.drop(columns=\"Outcome\", axis=1)\n",
        "y = data[\"Outcome\"]\n",
        "\n",
        "scaler = StandardScaler()\n",
        "standardized_data = scaler.fit_transform(x)\n",
        "\n",
        "x_train, x_test, y_train, y_test = train_test_split(\n",
        "    standardized_data, y, random_state=1, train_size=0.3\n",
        ")\n",
        "\n",
        "# Logistic Regression Implementation\n",
        "class LogisticRegression():\n",
        "    def __init__(self, no_of_iterations, learning_rate):\n",
        "        self.no_of_iterations = no_of_iterations\n",
        "        self.learning_rate = learning_rate\n",
        "\n",
        "    def fit(self, x, y):\n",
        "        self.m, self.n = x.shape\n",
        "        self.w = np.zeros(self.n)\n",
        "        self.b = 0\n",
        "        self.x = x\n",
        "        self.y = y\n",
        "\n",
        "        for _ in range(self.no_of_iterations):\n",
        "            self.update()\n",
        "\n",
        "    def update(self):\n",
        "        y_prediction = self.predict(self.x)\n",
        "        dw = (self.x.T).dot(y_prediction - self.y) / self.m\n",
        "        db = np.sum(y_prediction - self.y) / self.m\n",
        "        self.w -= self.learning_rate * dw\n",
        "        self.b -= self.learning_rate * db\n",
        "\n",
        "    def predict(self, x):\n",
        "        return 1 / (1 + np.exp(-(x.dot(self.w) + self.b)))\n",
        "\n",
        "# Train model\n",
        "model = LogisticRegression(1000, 0.02)\n",
        "model.fit(x_train, y_train)\n",
        "\n",
        "# Predict and evaluate\n",
        "prediction = model.predict(x_test)\n",
        "predicted_labels = (prediction >= 0.5).astype(int)\n",
        "print(predicted_labels)\n",
        "\n",
        "accuracy = accuracy_score(y_test, predicted_labels)\n",
        "print(\"Accuracy:\", accuracy)\n"
      ],
      "metadata": {
        "colab": {
          "base_uri": "https://localhost:8080/"
        },
        "id": "qobA5mQxSNQc",
        "outputId": "8262715b-1bed-4f65-e472-0c444f7020a4"
      },
      "execution_count": 27,
      "outputs": [
        {
          "output_type": "stream",
          "name": "stdout",
          "text": [
            "[1 0 0 0 0 0 0 0 0 0 0 0 1 1 0 1 0 0 0 0 1 0 1 0 0 0 0 1 0 1 0 0 0 1 0 1 0\n",
            " 0 0 1 0 0 0 0 0 0 1 1 0 0 0 0 1 0 1 0 1 0 1 0 1 0 1 0 0 0 0 0 1 1 1 1 1 0\n",
            " 1 0 1 0 0 1 1 0 0 0 0 1 1 0 0 0 0 0 0 0 1 0 0 0 1 0 0 0 1 0 0 0 0 1 0 0 0\n",
            " 0 0 0 0 0 0 0 0 0 0 1 0 0 0 0 0 0 1 0 1 0 0 0 0 0 0 1 0 0 1 0 0 1 1 1 0 0\n",
            " 0 0 0 1 0 0 1 1 0 0 0 0 1 1 0 0 0 0 0 1 1 1 1 1 0 0 1 0 1 0 0 0 1 1 0 1 0\n",
            " 0 0 1 0 0 0 0 0 0 1 0 0 0 0 1 1 0 0 0 1 1 0 0 0 1 0 0 0 1 0 0 0 0 0 0 0 0\n",
            " 0 1 0 0 0 0 0 1 0 1 0 0 0 0 1 1 0 0 0 0 0 0 0 0 0 0 0 0 0 1 0 0 0 1 0 0 0\n",
            " 1 1 1 0 0 0 0 0 0 0 1 1 0 0 0 0 1 0 1 0 0 0 0 0 0 0 1 1 0 0 0 1 1 0 1 1 1\n",
            " 0 0 0 1 0 1 0 1 0 0 0 1 0 0 0 0 1 1 0 0 0 0 1 1 0 1 0 0 0 1 1 1 1 1 0 0 1\n",
            " 1 1 0 1 0 0 0 1 1 0 0 0 0 0 1 1 0 0 0 1 0 1 1 0 0 0 0 1 0 0 0 0 0 1 0 0 0\n",
            " 0 0 0 0 0 0 1 0 1 0 0 0 0 0 0 0 1 0 1 0 1 0 0 1 0 1 0 0 0 0 0 1 0 1 0 1 0\n",
            " 0 0 0 0 1 1 0 0 1 0 1 0 1 0 0 0 0 0 1 1 0 1 0 0 0 1 0 0 0 1 0 1 0 0 0 1 1\n",
            " 0 0 0 0 0 0 0 0 0 0 0 0 0 0 1 1 1 0 0 0 0 1 0 0 0 1 0 0 1 1 0 0 0 0 0 0 0\n",
            " 1 0 0 0 0 1 0 0 1 1 0 1 0 0 0 0 1 0 1 1 0 1 1 0 0 0 0 1 1 0 0 0 0 0 1 0 1\n",
            " 0 1 1 0 0 1 0 0 0 0 0 0 1 0 0 0 1 1 0 1]\n",
            "Accuracy: 0.7843866171003717\n"
          ]
        }
      ]
    }
  ]
}